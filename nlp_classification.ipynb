{
 "cells": [
  {
   "cell_type": "code",
   "execution_count": 1,
   "metadata": {
    "collapsed": true
   },
   "outputs": [],
   "source": [
    "import pandas as pd\n",
    "import matplotlib.pyplot as plt\n",
    "import seaborn as sns"
   ]
  },
  {
   "cell_type": "code",
   "execution_count": 2,
   "metadata": {
    "collapsed": true
   },
   "outputs": [],
   "source": [
    "%matplotlib inline"
   ]
  },
  {
   "cell_type": "code",
   "execution_count": 3,
   "metadata": {
    "collapsed": true
   },
   "outputs": [],
   "source": [
    "df = pd.read_csv(\"data.train.csv\")"
   ]
  },
  {
   "cell_type": "code",
   "execution_count": 4,
   "metadata": {},
   "outputs": [
    {
     "data": {
      "text/html": [
       "<div>\n",
       "<style>\n",
       "    .dataframe thead tr:only-child th {\n",
       "        text-align: right;\n",
       "    }\n",
       "\n",
       "    .dataframe thead th {\n",
       "        text-align: left;\n",
       "    }\n",
       "\n",
       "    .dataframe tbody tr th {\n",
       "        vertical-align: top;\n",
       "    }\n",
       "</style>\n",
       "<table border=\"1\" class=\"dataframe\">\n",
       "  <thead>\n",
       "    <tr style=\"text-align: right;\">\n",
       "      <th></th>\n",
       "      <th>Unnamed: 0</th>\n",
       "      <th>Products bought by the customer</th>\n",
       "      <th>New products bought by the customer</th>\n",
       "    </tr>\n",
       "  </thead>\n",
       "  <tbody>\n",
       "    <tr>\n",
       "      <th>0</th>\n",
       "      <td>Customer_458</td>\n",
       "      <td>Cips;Yer fıstığı;Şehriye;Çörek otu;Saç kremi;U...</td>\n",
       "      <td>Karamelli likör</td>\n",
       "    </tr>\n",
       "    <tr>\n",
       "      <th>1</th>\n",
       "      <td>Customer_45</td>\n",
       "      <td>Patates;Meksika fasülyesi;Bezelye;Bisküvi;El m...</td>\n",
       "      <td>Kinoa tohumu</td>\n",
       "    </tr>\n",
       "    <tr>\n",
       "      <th>2</th>\n",
       "      <td>Customer_720</td>\n",
       "      <td>Kırmızı şarap;Kalamar;Kahve likörü;Garnitür;So...</td>\n",
       "      <td>Kinoa tohumu</td>\n",
       "    </tr>\n",
       "    <tr>\n",
       "      <th>3</th>\n",
       "      <td>Customer_560</td>\n",
       "      <td>Şampuan;Baldo pirinç;Acı Sos;Bisküvi;Sarımsak ...</td>\n",
       "      <td>Peeling krem</td>\n",
       "    </tr>\n",
       "    <tr>\n",
       "      <th>4</th>\n",
       "      <td>Customer_141</td>\n",
       "      <td>Köfte;Garnitür;Zeytinyağı;Saç boyası;Kalem;Sar...</td>\n",
       "      <td>Peeling krem</td>\n",
       "    </tr>\n",
       "  </tbody>\n",
       "</table>\n",
       "</div>"
      ],
      "text/plain": [
       "     Unnamed: 0                    Products bought by the customer  \\\n",
       "0  Customer_458  Cips;Yer fıstığı;Şehriye;Çörek otu;Saç kremi;U...   \n",
       "1   Customer_45  Patates;Meksika fasülyesi;Bezelye;Bisküvi;El m...   \n",
       "2  Customer_720  Kırmızı şarap;Kalamar;Kahve likörü;Garnitür;So...   \n",
       "3  Customer_560  Şampuan;Baldo pirinç;Acı Sos;Bisküvi;Sarımsak ...   \n",
       "4  Customer_141  Köfte;Garnitür;Zeytinyağı;Saç boyası;Kalem;Sar...   \n",
       "\n",
       "  New products bought by the customer  \n",
       "0                     Karamelli likör  \n",
       "1                        Kinoa tohumu  \n",
       "2                        Kinoa tohumu  \n",
       "3                        Peeling krem  \n",
       "4                        Peeling krem  "
      ]
     },
     "execution_count": 4,
     "metadata": {},
     "output_type": "execute_result"
    }
   ],
   "source": [
    "df.head()"
   ]
  },
  {
   "cell_type": "code",
   "execution_count": 10,
   "metadata": {},
   "outputs": [],
   "source": [
    "def text_process(products):\n",
    "    return products.split(\";\")"
   ]
  },
  {
   "cell_type": "code",
   "execution_count": 23,
   "metadata": {},
   "outputs": [],
   "source": [
    "from sklearn.model_selection import train_test_split\n",
    "\n",
    "bought_products_train, bought_products_test, new_bought_products_train, new_bought_products_test = \\\n",
    "train_test_split(df['Products bought by the customer'], df['New products bought by the customer'], test_size=0.3)"
   ]
  },
  {
   "cell_type": "code",
   "execution_count": 25,
   "metadata": {
    "collapsed": true
   },
   "outputs": [],
   "source": [
    "from sklearn.naive_bayes import MultinomialNB"
   ]
  },
  {
   "cell_type": "code",
   "execution_count": 39,
   "metadata": {},
   "outputs": [],
   "source": [
    "from sklearn.pipeline import Pipeline\n",
    "\n",
    "pipeline = Pipeline([\n",
    "    ('bow', CountVectorizer(analyzer=text_process)),  # strings to token integer counts\n",
    "    ('tfidf', TfidfTransformer()),  # integer counts to weighted TF-IDF scores\n",
    "    ('classifier', MultinomialNB()),  # train on TF-IDF vectors w/ Naive Bayes classifier\n",
    "])"
   ]
  },
  {
   "cell_type": "code",
   "execution_count": 40,
   "metadata": {},
   "outputs": [
    {
     "data": {
      "text/plain": [
       "Pipeline(memory=None,\n",
       "     steps=[('bow', CountVectorizer(analyzer=<function text_process at 0x00000193D013FEA0>,\n",
       "        binary=False, decode_error='strict', dtype=<class 'numpy.int64'>,\n",
       "        encoding='utf-8', input='content', lowercase=True, max_df=1.0,\n",
       "        max_features=None, min_df=1, ngram_range=(1, 1), preprocesso...f=False, use_idf=True)), ('classifier', MultinomialNB(alpha=1.0, class_prior=None, fit_prior=True))])"
      ]
     },
     "execution_count": 40,
     "metadata": {},
     "output_type": "execute_result"
    }
   ],
   "source": [
    "pipeline.fit(bought_products_train,new_bought_products_train)"
   ]
  },
  {
   "cell_type": "code",
   "execution_count": 41,
   "metadata": {},
   "outputs": [],
   "source": [
    "predictions = pipeline.predict(bought_products_test)"
   ]
  },
  {
   "cell_type": "code",
   "execution_count": 42,
   "metadata": {},
   "outputs": [
    {
     "name": "stdout",
     "output_type": "stream",
     "text": [
      "                 precision    recall  f1-score   support\n",
      "\n",
      "Karamelli likör       0.94      0.96      0.95        47\n",
      "   Kinoa tohumu       0.90      0.89      0.90        64\n",
      "Kurutulmuş Kivi       0.89      0.87      0.88        63\n",
      "   Peeling krem       0.91      0.92      0.92        66\n",
      "\n",
      "    avg / total       0.91      0.91      0.91       240\n",
      "\n"
     ]
    }
   ],
   "source": [
    "from sklearn.metrics import classification_report\n",
    "print(classification_report(predictions,new_bought_products_test))"
   ]
  },
  {
   "cell_type": "code",
   "execution_count": 43,
   "metadata": {},
   "outputs": [
    {
     "data": {
      "text/plain": [
       "array(['Kinoa tohumu', 'Kurutulmuş Kivi', 'Kinoa tohumu', 'Peeling krem',\n",
       "       'Kurutulmuş Kivi', 'Peeling krem', 'Karamelli likör',\n",
       "       'Karamelli likör', 'Kurutulmuş Kivi', 'Karamelli likör',\n",
       "       'Karamelli likör', 'Peeling krem', 'Karamelli likör',\n",
       "       'Kurutulmuş Kivi', 'Peeling krem', 'Kinoa tohumu', 'Peeling krem',\n",
       "       'Kurutulmuş Kivi', 'Kurutulmuş Kivi', 'Karamelli likör',\n",
       "       'Kinoa tohumu', 'Peeling krem', 'Karamelli likör', 'Kinoa tohumu',\n",
       "       'Kinoa tohumu', 'Karamelli likör', 'Karamelli likör',\n",
       "       'Kinoa tohumu', 'Peeling krem', 'Kurutulmuş Kivi',\n",
       "       'Karamelli likör', 'Kinoa tohumu', 'Kurutulmuş Kivi',\n",
       "       'Kinoa tohumu', 'Karamelli likör', 'Kinoa tohumu', 'Kinoa tohumu',\n",
       "       'Peeling krem', 'Karamelli likör', 'Karamelli likör',\n",
       "       'Kinoa tohumu', 'Peeling krem', 'Kinoa tohumu', 'Kinoa tohumu',\n",
       "       'Peeling krem', 'Peeling krem', 'Peeling krem', 'Kurutulmuş Kivi',\n",
       "       'Kurutulmuş Kivi', 'Kinoa tohumu', 'Kinoa tohumu',\n",
       "       'Kurutulmuş Kivi', 'Kinoa tohumu', 'Kinoa tohumu', 'Kinoa tohumu',\n",
       "       'Kurutulmuş Kivi', 'Kinoa tohumu', 'Kinoa tohumu',\n",
       "       'Karamelli likör', 'Peeling krem', 'Kurutulmuş Kivi',\n",
       "       'Karamelli likör', 'Kurutulmuş Kivi', 'Peeling krem',\n",
       "       'Karamelli likör', 'Karamelli likör', 'Kurutulmuş Kivi',\n",
       "       'Karamelli likör', 'Kinoa tohumu', 'Peeling krem',\n",
       "       'Karamelli likör', 'Karamelli likör', 'Peeling krem',\n",
       "       'Peeling krem', 'Karamelli likör', 'Peeling krem', 'Kinoa tohumu',\n",
       "       'Kurutulmuş Kivi', 'Karamelli likör', 'Kurutulmuş Kivi',\n",
       "       'Kurutulmuş Kivi', 'Kinoa tohumu', 'Kinoa tohumu', 'Peeling krem',\n",
       "       'Kurutulmuş Kivi', 'Kurutulmuş Kivi', 'Kurutulmuş Kivi',\n",
       "       'Karamelli likör', 'Karamelli likör', 'Peeling krem',\n",
       "       'Kurutulmuş Kivi', 'Peeling krem', 'Karamelli likör',\n",
       "       'Peeling krem', 'Kinoa tohumu', 'Kinoa tohumu', 'Kinoa tohumu',\n",
       "       'Peeling krem', 'Karamelli likör', 'Kurutulmuş Kivi',\n",
       "       'Karamelli likör', 'Kinoa tohumu', 'Peeling krem', 'Kinoa tohumu',\n",
       "       'Kinoa tohumu', 'Kurutulmuş Kivi', 'Kinoa tohumu', 'Peeling krem',\n",
       "       'Kurutulmuş Kivi', 'Kurutulmuş Kivi', 'Kurutulmuş Kivi',\n",
       "       'Kinoa tohumu', 'Karamelli likör', 'Karamelli likör',\n",
       "       'Peeling krem', 'Peeling krem', 'Peeling krem', 'Kurutulmuş Kivi',\n",
       "       'Karamelli likör', 'Kurutulmuş Kivi', 'Karamelli likör',\n",
       "       'Karamelli likör', 'Kurutulmuş Kivi', 'Kinoa tohumu',\n",
       "       'Kurutulmuş Kivi', 'Peeling krem', 'Peeling krem',\n",
       "       'Kurutulmuş Kivi', 'Kurutulmuş Kivi', 'Kinoa tohumu',\n",
       "       'Peeling krem', 'Peeling krem', 'Peeling krem', 'Karamelli likör',\n",
       "       'Kurutulmuş Kivi', 'Kinoa tohumu', 'Kurutulmuş Kivi',\n",
       "       'Peeling krem', 'Kinoa tohumu', 'Kurutulmuş Kivi', 'Peeling krem',\n",
       "       'Kinoa tohumu', 'Kinoa tohumu', 'Kurutulmuş Kivi', 'Peeling krem',\n",
       "       'Kinoa tohumu', 'Peeling krem', 'Kurutulmuş Kivi', 'Kinoa tohumu',\n",
       "       'Kinoa tohumu', 'Karamelli likör', 'Kurutulmuş Kivi',\n",
       "       'Kinoa tohumu', 'Kurutulmuş Kivi', 'Kurutulmuş Kivi',\n",
       "       'Kurutulmuş Kivi', 'Karamelli likör', 'Kinoa tohumu',\n",
       "       'Peeling krem', 'Karamelli likör', 'Peeling krem', 'Kinoa tohumu',\n",
       "       'Kurutulmuş Kivi', 'Kurutulmuş Kivi', 'Kinoa tohumu',\n",
       "       'Peeling krem', 'Kinoa tohumu', 'Kurutulmuş Kivi', 'Peeling krem',\n",
       "       'Kurutulmuş Kivi', 'Peeling krem', 'Kurutulmuş Kivi',\n",
       "       'Kinoa tohumu', 'Peeling krem', 'Peeling krem', 'Kurutulmuş Kivi',\n",
       "       'Kinoa tohumu', 'Kinoa tohumu', 'Karamelli likör', 'Kinoa tohumu',\n",
       "       'Karamelli likör', 'Peeling krem', 'Peeling krem',\n",
       "       'Kurutulmuş Kivi', 'Peeling krem', 'Kurutulmuş Kivi',\n",
       "       'Kurutulmuş Kivi', 'Kurutulmuş Kivi', 'Kurutulmuş Kivi',\n",
       "       'Peeling krem', 'Peeling krem', 'Peeling krem', 'Peeling krem',\n",
       "       'Kurutulmuş Kivi', 'Kinoa tohumu', 'Kinoa tohumu', 'Peeling krem',\n",
       "       'Peeling krem', 'Karamelli likör', 'Peeling krem',\n",
       "       'Kurutulmuş Kivi', 'Peeling krem', 'Karamelli likör',\n",
       "       'Kurutulmuş Kivi', 'Kinoa tohumu', 'Peeling krem',\n",
       "       'Kurutulmuş Kivi', 'Peeling krem', 'Kinoa tohumu', 'Kinoa tohumu',\n",
       "       'Kurutulmuş Kivi', 'Kinoa tohumu', 'Peeling krem', 'Kinoa tohumu',\n",
       "       'Peeling krem', 'Kinoa tohumu', 'Karamelli likör',\n",
       "       'Karamelli likör', 'Kurutulmuş Kivi', 'Kinoa tohumu',\n",
       "       'Kinoa tohumu', 'Karamelli likör', 'Kinoa tohumu', 'Peeling krem',\n",
       "       'Karamelli likör', 'Peeling krem', 'Kinoa tohumu', 'Peeling krem',\n",
       "       'Karamelli likör', 'Karamelli likör', 'Kurutulmuş Kivi',\n",
       "       'Peeling krem', 'Karamelli likör', 'Kurutulmuş Kivi',\n",
       "       'Kurutulmuş Kivi', 'Kurutulmuş Kivi', 'Peeling krem',\n",
       "       'Peeling krem', 'Peeling krem', 'Kinoa tohumu'], \n",
       "      dtype='<U15')"
      ]
     },
     "execution_count": 43,
     "metadata": {},
     "output_type": "execute_result"
    }
   ],
   "source": [
    "predictions"
   ]
  },
  {
   "cell_type": "code",
   "execution_count": 22,
   "metadata": {},
   "outputs": [
    {
     "name": "stdout",
     "output_type": "stream",
     "text": [
      "(800, 74)\n"
     ]
    }
   ],
   "source": [
    "print(products_tfidf.shape)"
   ]
  },
  {
   "cell_type": "code",
   "execution_count": null,
   "metadata": {
    "collapsed": true
   },
   "outputs": [],
   "source": []
  }
 ],
 "metadata": {
  "kernelspec": {
   "display_name": "Python 3",
   "language": "python",
   "name": "python3"
  },
  "language_info": {
   "codemirror_mode": {
    "name": "ipython",
    "version": 3
   },
   "file_extension": ".py",
   "mimetype": "text/x-python",
   "name": "python",
   "nbconvert_exporter": "python",
   "pygments_lexer": "ipython3",
   "version": "3.6.3"
  }
 },
 "nbformat": 4,
 "nbformat_minor": 2
}
